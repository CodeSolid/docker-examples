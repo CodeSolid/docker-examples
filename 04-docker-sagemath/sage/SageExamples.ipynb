{
 "cells": [
  {
   "cell_type": "markdown",
   "id": "b910c3c1-5938-468c-835b-fc09a7c165a5",
   "metadata": {},
   "source": [
    "# Some Fun With SageMath\n",
    "\n",
    "This notebook shows some explorations I did with SageMath as part of the articles [Python Docker Examples: SageMath in a Container](https://codesolid.com/python-docker-examples-sagemath-in-a-container/) and [Introducing SageMath:  Symbolic Math Software In Python](Introducing Sage Math: Symbolic Math Software In Python)"
   ]
  },
  {
   "cell_type": "markdown",
   "id": "aaca2238-762c-4783-aef2-efa2e1d49dc9",
   "metadata": {},
   "source": [
    "Here we take a derivative of a simple function and show the result in LaTeX format using the \"built-in\" show command (an alias for \"pretty_print\")."
   ]
  },
  {
   "cell_type": "code",
   "execution_count": 3,
   "id": "c296534a-0a87-44f4-9557-4619eee7865c",
   "metadata": {},
   "outputs": [
    {
     "data": {
      "text/html": [
       "<html><script type=\"math/tex; mode=display\">\\newcommand{\\Bold}[1]{\\mathbf{#1}}6 \\, x^{2} + 2 \\, x</script></html>"
      ],
      "text/latex": [
       "\\begin{math}\n",
       "\\newcommand{\\Bold}[1]{\\mathbf{#1}}6 \\, x^{2} + 2 \\, x\n",
       "\\end{math}"
      ],
      "text/plain": [
       "6*x^2 + 2*x"
      ]
     },
     "metadata": {},
     "output_type": "display_data"
    }
   ],
   "source": [
    "result = diff(2 * x^3 + x^2 - pi)\n",
    "show(result)"
   ]
  },
  {
   "cell_type": "markdown",
   "id": "4ce1fc0f-833c-444a-95d3-ed868dc5591b",
   "metadata": {},
   "source": [
    "Unlike a Python shell, SageMath often shows results in symbolic or rational format, not numerical.  To change this, however, you can simply wrap it in a float constructor."
   ]
  },
  {
   "cell_type": "code",
   "execution_count": 5,
   "id": "42b8bd67-260b-4744-8a45-ca54f78d6aba",
   "metadata": {},
   "outputs": [
    {
     "name": "stdout",
     "output_type": "stream",
     "text": [
      "1/5\n",
      "0.2\n"
     ]
    }
   ],
   "source": [
    "print(1/5)\n",
    "print(float(1/5))"
   ]
  },
  {
   "cell_type": "markdown",
   "id": "47453b3e-1238-4b39-90e3-29178b9edb80",
   "metadata": {},
   "source": [
    "```^``` is overloaded as another exponent operator in SageMath.  If you need the original meaning (bitwise exclusive or), use ```^^```"
   ]
  },
  {
   "cell_type": "code",
   "execution_count": 7,
   "id": "f4a48ba5-a14d-4f49-915f-0f54ef8afbaa",
   "metadata": {},
   "outputs": [
    {
     "name": "stdout",
     "output_type": "stream",
     "text": [
      "125\n",
      "6\n"
     ]
    }
   ],
   "source": [
    "print(5^3)\n",
    "print(5^^3)"
   ]
  },
  {
   "cell_type": "markdown",
   "id": "83e51c94-8205-4b03-9546-40b4138bdaa5",
   "metadata": {},
   "source": [
    "Why would anyone need to show this many digits of pi, except perhaps to amaze your friends on March 14.  (\"Pi Day\")?"
   ]
  },
  {
   "cell_type": "code",
   "execution_count": 5,
   "id": "83c9d14f-7968-49eb-b2c9-e0670eaf98e8",
   "metadata": {},
   "outputs": [
    {
     "data": {
      "text/plain": [
       "3.14159265358979323846264338327950288419716939937510582097494459230781640628620899862803482534211706798214808651328230664709384460955058223172535940812848111745028410270193852110555964462294895493038196442881097566593344612847564823378678316527120190914564856692346034861045432664821339360726024914127e0"
      ]
     },
     "execution_count": 5,
     "metadata": {},
     "output_type": "execute_result"
    }
   ],
   "source": [
    "bits = 1000\n",
    "R = RealField(bits, sci_not=True)\n",
    "R(pi)"
   ]
  },
  {
   "cell_type": "markdown",
   "id": "b7bcf1a5-a7e1-4041-9326-2a7168aa5be8",
   "metadata": {},
   "source": [
    "No need to let those NumPy folks hog all the matrices.  Ours come with fractions if we want them \"QQ\", or RR if we think that's just gilding the lily."
   ]
  },
  {
   "cell_type": "code",
   "execution_count": 14,
   "id": "8b69deb7-cf00-47cb-a00e-a9dcdba6c01e",
   "metadata": {},
   "outputs": [
    {
     "name": "stdout",
     "output_type": "stream",
     "text": [
      "[  -1   -1   -2    0 -1/2]\n",
      "[  -1   -2   -2    1  1/2]\n",
      "[   1    0   -1   -1    1]\n",
      "[-0.0985618114620717  -0.530624055436915  -0.910782214296890]\n",
      "[  0.983201559849229   0.420500677298030  -0.434689678801966]\n",
      "[ -0.546747258335342   0.111811563333617   0.258728796335589]\n",
      "[ -0.340060966080504   0.460343391714004  -0.891882360094629]\n",
      "[  0.524959812688330   0.755771185845004  0.0424216662526207]\n"
     ]
    }
   ],
   "source": [
    "print(random_matrix(QQ, 3,5))\n",
    "print(random_matrix(RR, 5,3))"
   ]
  },
  {
   "cell_type": "markdown",
   "id": "3b648bdc-0970-43e7-b11f-89372ce882c9",
   "metadata": {},
   "source": [
    "Graphing functions is simplicity itself, too!"
   ]
  },
  {
   "cell_type": "code",
   "execution_count": 27,
   "id": "73dad7b7-678e-4917-a716-4f758354c802",
   "metadata": {},
   "outputs": [
    {
     "data": {
      "image/png": "[encoded data removed]",
      "text/plain": [
       "Graphics object consisting of 1 graphics primitive"
      ]
     },
     "execution_count": 27,
     "metadata": {},
     "output_type": "execute_result"
    }
   ],
   "source": [
    "f(x) = x^2 + pi\n",
    "plot(f, (-5, 5))"
   ]
  }
 ],
 "metadata": {
  "kernelspec": {
   "display_name": "SageMath 9.2",
   "language": "sage",
   "name": "sagemath"
  },
  "language_info": {
   "codemirror_mode": {
    "name": "ipython",
    "version": 3
   },
   "file_extension": ".py",
   "mimetype": "text/x-python",
   "name": "python",
   "nbconvert_exporter": "python",
   "pygments_lexer": "ipython3",
   "version": "3.9.2"
  }
 },
 "nbformat": 4,
 "nbformat_minor": 5
}
